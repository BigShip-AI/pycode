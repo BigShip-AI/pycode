{
 "cells": [
  {
   "cell_type": "code",
   "execution_count": 1,
   "id": "904393c7",
   "metadata": {
    "scrolled": true
   },
   "outputs": [
    {
     "name": "stdout",
     "output_type": "stream",
     "text": [
      "\n",
      "The following command must be run outside of the IPython shell:\n",
      "\n",
      "    $ pip install wrds\n",
      "\n",
      "The Python package manager (pip) can only be used from outside of IPython.\n",
      "Please reissue the `pip` command in a separate terminal or command prompt.\n",
      "\n",
      "See the Python documentation for more information on how to install packages:\n",
      "\n",
      "    https://docs.python.org/3/installing/\n"
     ]
    }
   ],
   "source": [
    "pip install wrds"
   ]
  },
  {
   "cell_type": "code",
   "execution_count": null,
   "id": "10bf11ac",
   "metadata": {},
   "outputs": [],
   "source": [
    "import pandas as pd\n",
    "import numpy as np\n",
    "import datetime as dt\n",
    "import statsmodels.api as sm\n",
    "from scipy.stats.mstats import winsorize\n",
    "import matplotlib.pyplot as plt\n",
    "\n",
    "import wrds\n"
   ]
  },
  {
   "cell_type": "code",
   "execution_count": null,
   "id": "f27a0182",
   "metadata": {},
   "outputs": [],
   "source": [
    "conn=wrds.Connection()"
   ]
  },
  {
   "cell_type": "code",
   "execution_count": null,
   "id": "c06a0041",
   "metadata": {},
   "outputs": [],
   "source": [
    "import os  \n",
    "os.getcwd()  #this tells you where the current working directory is. \n",
    "import pandas as pd\n",
    "# if your datafile is in the same folder as the current working directory:\n",
    "# put \\\\data_final.csv after the current working directory\n",
    "df_dataset_bankruptcy = pd.read_csv('bankruptcy dataset_WRDS.csv') \n",
    "\n",
    "df_dataset_bankruptcy"
   ]
  },
  {
   "cell_type": "code",
   "execution_count": null,
   "id": "5b310b1b",
   "metadata": {},
   "outputs": [],
   "source": [
    "df_dataset_bankruptcy.columns"
   ]
  },
  {
   "cell_type": "code",
   "execution_count": 7,
   "id": "9768840e",
   "metadata": {},
   "outputs": [
    {
     "ename": "NameError",
     "evalue": "name 'df_data_final' is not defined",
     "output_type": "error",
     "traceback": [
      "\u001b[1;31m---------------------------------------------------------------------------\u001b[0m",
      "\u001b[1;31mNameError\u001b[0m                                 Traceback (most recent call last)",
      "\u001b[1;32m<ipython-input-7-da3eaf23b564>\u001b[0m in \u001b[0;36m<module>\u001b[1;34m\u001b[0m\n\u001b[0;32m      5\u001b[0m \u001b[1;31m#2) replace the missing values with 0: in what cases?\u001b[0m\u001b[1;33m\u001b[0m\u001b[1;33m\u001b[0m\u001b[1;33m\u001b[0m\u001b[0m\n\u001b[0;32m      6\u001b[0m \u001b[1;33m\u001b[0m\u001b[0m\n\u001b[1;32m----> 7\u001b[1;33m \u001b[0mdf_data_final\u001b[0m\u001b[1;33m[\u001b[0m\u001b[1;34m'REALPROP'\u001b[0m\u001b[1;33m]\u001b[0m\u001b[1;33m.\u001b[0m\u001b[0misnull\u001b[0m\u001b[1;33m(\u001b[0m\u001b[1;33m)\u001b[0m\u001b[1;33m.\u001b[0m\u001b[0mvalue_counts\u001b[0m\u001b[1;33m(\u001b[0m\u001b[1;33m)\u001b[0m\u001b[1;33m\u001b[0m\u001b[1;33m\u001b[0m\u001b[0m\n\u001b[0m",
      "\u001b[1;31mNameError\u001b[0m: name 'df_data_final' is not defined"
     ]
    }
   ],
   "source": [
    "# missing values for each variable \n",
    "\n",
    "#1) drop the missing values: in what cases? \n",
    "\n",
    "#2) replace the missing values with 0: in what cases?\n",
    "\n",
    "df_data_final['REALPROP'].isnull().value_counts()"
   ]
  },
  {
   "cell_type": "code",
   "execution_count": 8,
   "id": "b1970e0c",
   "metadata": {},
   "outputs": [
    {
     "data": {
      "text/plain": [
       "0        False\n",
       "1        False\n",
       "2        False\n",
       "3        False\n",
       "4        False\n",
       "         ...  \n",
       "44711    False\n",
       "44712    False\n",
       "44713    False\n",
       "44714    False\n",
       "44715    False\n",
       "Name: REALPROP, Length: 44716, dtype: bool"
      ]
     },
     "execution_count": 8,
     "metadata": {},
     "output_type": "execute_result"
    }
   ],
   "source": [
    "df_dataset_bankruptcy['REALPROP'].isnull()"
   ]
  },
  {
   "cell_type": "code",
   "execution_count": 9,
   "id": "7f81fe9a",
   "metadata": {},
   "outputs": [
    {
     "data": {
      "text/plain": [
       "count    4.224300e+04\n",
       "mean     7.440214e+04\n",
       "std      5.633315e+05\n",
       "min      0.000000e+00\n",
       "25%      0.000000e+00\n",
       "50%      0.000000e+00\n",
       "75%      7.000000e+04\n",
       "max      5.712500e+07\n",
       "Name: REALPROP, dtype: float64"
      ]
     },
     "execution_count": 9,
     "metadata": {},
     "output_type": "execute_result"
    }
   ],
   "source": [
    "df_dataset_bankruptcy['REALPROP'].describe()"
   ]
  },
  {
   "cell_type": "code",
   "execution_count": 10,
   "id": "39b371e0",
   "metadata": {},
   "outputs": [
    {
     "data": {
      "text/plain": [
       "count     44716\n",
       "unique    14277\n",
       "top           0\n",
       "freq      27902\n",
       "Name: PROP-LIABILITY Ratio, dtype: object"
      ]
     },
     "execution_count": 10,
     "metadata": {},
     "output_type": "execute_result"
    }
   ],
   "source": [
    "df_dataset_bankruptcy['PROP-LIABILITY Ratio'].describe()"
   ]
  },
  {
   "cell_type": "code",
   "execution_count": 11,
   "id": "342a718f",
   "metadata": {},
   "outputs": [],
   "source": [
    "df_dataset_bankruptcy['REALPROP'] = df_dataset_bankruptcy['REALPROP'].fillna(0)"
   ]
  },
  {
   "cell_type": "code",
   "execution_count": 12,
   "id": "638aa776",
   "metadata": {},
   "outputs": [
    {
     "data": {
      "text/plain": [
       "False    44716\n",
       "Name: REALPROP, dtype: int64"
      ]
     },
     "execution_count": 12,
     "metadata": {},
     "output_type": "execute_result"
    }
   ],
   "source": [
    "df_dataset_bankruptcy['REALPROP'].isnull().value_counts()"
   ]
  },
  {
   "cell_type": "code",
   "execution_count": 13,
   "id": "cc071cf5",
   "metadata": {},
   "outputs": [
    {
     "data": {
      "text/plain": [
       "False    44716\n",
       "Name: TOTLBLTS, dtype: int64"
      ]
     },
     "execution_count": 13,
     "metadata": {},
     "output_type": "execute_result"
    }
   ],
   "source": [
    "df_dataset_bankruptcy['TOTLBLTS'].isnull().value_counts() # now let's look at stock return"
   ]
  },
  {
   "cell_type": "code",
   "execution_count": 14,
   "id": "2f0f1d12",
   "metadata": {},
   "outputs": [
    {
     "ename": "TypeError",
     "evalue": "'DataFrame' object is not callable",
     "output_type": "error",
     "traceback": [
      "\u001b[1;31m---------------------------------------------------------------------------\u001b[0m",
      "\u001b[1;31mTypeError\u001b[0m                                 Traceback (most recent call last)",
      "\u001b[1;32m<ipython-input-14-22403e933849>\u001b[0m in \u001b[0;36m<module>\u001b[1;34m\u001b[0m\n\u001b[1;32m----> 1\u001b[1;33m \u001b[0mdf_dataset_bankruptcy\u001b[0m\u001b[1;33m(\u001b[0m\u001b[0maxis\u001b[0m\u001b[1;33m=\u001b[0m\u001b[1;36m0\u001b[0m\u001b[1;33m,\u001b[0m \u001b[0msubset\u001b[0m\u001b[1;33m=\u001b[0m\u001b[1;33m[\u001b[0m\u001b[1;34m'TOTLBLTS'\u001b[0m\u001b[1;33m]\u001b[0m\u001b[1;33m,\u001b[0m \u001b[0minplace\u001b[0m\u001b[1;33m=\u001b[0m\u001b[1;32mTrue\u001b[0m\u001b[1;33m)\u001b[0m\u001b[1;33m\u001b[0m\u001b[1;33m\u001b[0m\u001b[0m\n\u001b[0m",
      "\u001b[1;31mTypeError\u001b[0m: 'DataFrame' object is not callable"
     ]
    }
   ],
   "source": [
    "df_dataset_bankruptcy(axis=0, subset=['TOTLBLTS'], inplace=True)"
   ]
  },
  {
   "cell_type": "code",
   "execution_count": 15,
   "id": "9f417349",
   "metadata": {},
   "outputs": [
    {
     "data": {
      "text/html": [
       "<div>\n",
       "<style scoped>\n",
       "    .dataframe tbody tr th:only-of-type {\n",
       "        vertical-align: middle;\n",
       "    }\n",
       "\n",
       "    .dataframe tbody tr th {\n",
       "        vertical-align: top;\n",
       "    }\n",
       "\n",
       "    .dataframe thead th {\n",
       "        text-align: right;\n",
       "    }\n",
       "</style>\n",
       "<table border=\"1\" class=\"dataframe\">\n",
       "  <thead>\n",
       "    <tr style=\"text-align: right;\">\n",
       "      <th></th>\n",
       "      <th>SNAPSHOT</th>\n",
       "      <th>SNAPFILE</th>\n",
       "      <th>SNAPPEND</th>\n",
       "      <th>SNAPCLOS</th>\n",
       "      <th>CASEKEY</th>\n",
       "      <th>CIRCUIT</th>\n",
       "      <th>DISTRICT</th>\n",
       "      <th>OFFICE</th>\n",
       "      <th>DOCKET</th>\n",
       "      <th>GEN</th>\n",
       "      <th>...</th>\n",
       "      <th>UNSECPR</th>\n",
       "      <th>UNSECNPR</th>\n",
       "      <th>DSCHRGD</th>\n",
       "      <th>NDSCHRGD</th>\n",
       "      <th>TOTDBT</th>\n",
       "      <th>CNTMNTHI</th>\n",
       "      <th>AVGMNTHI</th>\n",
       "      <th>AVGMNTHE</th>\n",
       "      <th>FLCMECFV</th>\n",
       "      <th>PROP-LIABILITY Ratio</th>\n",
       "    </tr>\n",
       "  </thead>\n",
       "  <tbody>\n",
       "    <tr>\n",
       "      <th>0</th>\n",
       "      <td>20210331</td>\n",
       "      <td>1</td>\n",
       "      <td>1</td>\n",
       "      <td>0</td>\n",
       "      <td>7.52E+12</td>\n",
       "      <td>7</td>\n",
       "      <td>52</td>\n",
       "      <td>3</td>\n",
       "      <td>2180344</td>\n",
       "      <td>0</td>\n",
       "      <td>...</td>\n",
       "      <td>1300.0</td>\n",
       "      <td>39046.21</td>\n",
       "      <td>140046.21</td>\n",
       "      <td>1300.0</td>\n",
       "      <td>141346.21</td>\n",
       "      <td>4446.00</td>\n",
       "      <td>3674.00</td>\n",
       "      <td>3584.00</td>\n",
       "      <td>5.3.4</td>\n",
       "      <td>0.778230983</td>\n",
       "    </tr>\n",
       "    <tr>\n",
       "      <th>1</th>\n",
       "      <td>20210331</td>\n",
       "      <td>1</td>\n",
       "      <td>1</td>\n",
       "      <td>0</td>\n",
       "      <td>9.72E+12</td>\n",
       "      <td>9</td>\n",
       "      <td>72</td>\n",
       "      <td>2</td>\n",
       "      <td>2120969</td>\n",
       "      <td>0</td>\n",
       "      <td>...</td>\n",
       "      <td>0.0</td>\n",
       "      <td>39777.00</td>\n",
       "      <td>375434.00</td>\n",
       "      <td>0.0</td>\n",
       "      <td>375434.00</td>\n",
       "      <td>3225.00</td>\n",
       "      <td>2443.00</td>\n",
       "      <td>4503.00</td>\n",
       "      <td>5.3.3</td>\n",
       "      <td>1.185294885</td>\n",
       "    </tr>\n",
       "    <tr>\n",
       "      <th>2</th>\n",
       "      <td>20210331</td>\n",
       "      <td>1</td>\n",
       "      <td>1</td>\n",
       "      <td>0</td>\n",
       "      <td>097221422884r1</td>\n",
       "      <td>9</td>\n",
       "      <td>72</td>\n",
       "      <td>2</td>\n",
       "      <td>1422884</td>\n",
       "      <td>r</td>\n",
       "      <td>...</td>\n",
       "      <td>0.0</td>\n",
       "      <td>651622.98</td>\n",
       "      <td>1066822.98</td>\n",
       "      <td>0.0</td>\n",
       "      <td>1066822.98</td>\n",
       "      <td>9950.12</td>\n",
       "      <td>12449.00</td>\n",
       "      <td>10957.78</td>\n",
       "      <td>5.3.3</td>\n",
       "      <td>0.492490329</td>\n",
       "    </tr>\n",
       "    <tr>\n",
       "      <th>3</th>\n",
       "      <td>20210331</td>\n",
       "      <td>1</td>\n",
       "      <td>1</td>\n",
       "      <td>0</td>\n",
       "      <td>5.42E+12</td>\n",
       "      <td>5</td>\n",
       "      <td>42</td>\n",
       "      <td>3</td>\n",
       "      <td>2130172</td>\n",
       "      <td>0</td>\n",
       "      <td>...</td>\n",
       "      <td>3100.0</td>\n",
       "      <td>54563.00</td>\n",
       "      <td>159448.00</td>\n",
       "      <td>0.0</td>\n",
       "      <td>159448.00</td>\n",
       "      <td>904.87</td>\n",
       "      <td>2944.00</td>\n",
       "      <td>1329.00</td>\n",
       "      <td>10.5.3</td>\n",
       "      <td>0.612412824</td>\n",
       "    </tr>\n",
       "    <tr>\n",
       "      <th>4</th>\n",
       "      <td>20210331</td>\n",
       "      <td>1</td>\n",
       "      <td>1</td>\n",
       "      <td>0</td>\n",
       "      <td>5.42E+12</td>\n",
       "      <td>5</td>\n",
       "      <td>42</td>\n",
       "      <td>3</td>\n",
       "      <td>2130253</td>\n",
       "      <td>0</td>\n",
       "      <td>...</td>\n",
       "      <td>0.0</td>\n",
       "      <td>108777.00</td>\n",
       "      <td>122852.00</td>\n",
       "      <td>21343.0</td>\n",
       "      <td>144195.00</td>\n",
       "      <td>4892.11</td>\n",
       "      <td>3400.00</td>\n",
       "      <td>3332.00</td>\n",
       "      <td>10.5.3</td>\n",
       "      <td>0</td>\n",
       "    </tr>\n",
       "    <tr>\n",
       "      <th>...</th>\n",
       "      <td>...</td>\n",
       "      <td>...</td>\n",
       "      <td>...</td>\n",
       "      <td>...</td>\n",
       "      <td>...</td>\n",
       "      <td>...</td>\n",
       "      <td>...</td>\n",
       "      <td>...</td>\n",
       "      <td>...</td>\n",
       "      <td>...</td>\n",
       "      <td>...</td>\n",
       "      <td>...</td>\n",
       "      <td>...</td>\n",
       "      <td>...</td>\n",
       "      <td>...</td>\n",
       "      <td>...</td>\n",
       "      <td>...</td>\n",
       "      <td>...</td>\n",
       "      <td>...</td>\n",
       "      <td>...</td>\n",
       "      <td>...</td>\n",
       "    </tr>\n",
       "    <tr>\n",
       "      <th>44711</th>\n",
       "      <td>20210331</td>\n",
       "      <td>1</td>\n",
       "      <td>1</td>\n",
       "      <td>0</td>\n",
       "      <td>1.09E+13</td>\n",
       "      <td>10</td>\n",
       "      <td>85</td>\n",
       "      <td>4</td>\n",
       "      <td>2110318</td>\n",
       "      <td>0</td>\n",
       "      <td>...</td>\n",
       "      <td>0.0</td>\n",
       "      <td>44851.55</td>\n",
       "      <td>62090.55</td>\n",
       "      <td>0.0</td>\n",
       "      <td>62090.55</td>\n",
       "      <td>3942.31</td>\n",
       "      <td>2784.23</td>\n",
       "      <td>2490.59</td>\n",
       "      <td>5.3.3</td>\n",
       "      <td>0</td>\n",
       "    </tr>\n",
       "    <tr>\n",
       "      <th>44712</th>\n",
       "      <td>20210331</td>\n",
       "      <td>1</td>\n",
       "      <td>1</td>\n",
       "      <td>0</td>\n",
       "      <td>1.09E+13</td>\n",
       "      <td>10</td>\n",
       "      <td>88</td>\n",
       "      <td>2</td>\n",
       "      <td>2121278</td>\n",
       "      <td>0</td>\n",
       "      <td>...</td>\n",
       "      <td>0.0</td>\n",
       "      <td>17581.59</td>\n",
       "      <td>17581.59</td>\n",
       "      <td>0.0</td>\n",
       "      <td>17581.59</td>\n",
       "      <td>2256.71</td>\n",
       "      <td>1701.95</td>\n",
       "      <td>1601.95</td>\n",
       "      <td>5.3.4</td>\n",
       "      <td>0</td>\n",
       "    </tr>\n",
       "    <tr>\n",
       "      <th>44713</th>\n",
       "      <td>20210331</td>\n",
       "      <td>1</td>\n",
       "      <td>1</td>\n",
       "      <td>0</td>\n",
       "      <td>7.55E+12</td>\n",
       "      <td>7</td>\n",
       "      <td>55</td>\n",
       "      <td>3</td>\n",
       "      <td>2130280</td>\n",
       "      <td>0</td>\n",
       "      <td>...</td>\n",
       "      <td>0.0</td>\n",
       "      <td>157711.66</td>\n",
       "      <td>423727.66</td>\n",
       "      <td>4336.0</td>\n",
       "      <td>428063.66</td>\n",
       "      <td>10483.90</td>\n",
       "      <td>7712.34</td>\n",
       "      <td>5775.73</td>\n",
       "      <td>10.5.2</td>\n",
       "      <td>0.492683728</td>\n",
       "    </tr>\n",
       "    <tr>\n",
       "      <th>44714</th>\n",
       "      <td>20210331</td>\n",
       "      <td>1</td>\n",
       "      <td>1</td>\n",
       "      <td>0</td>\n",
       "      <td>6.48E+12</td>\n",
       "      <td>6</td>\n",
       "      <td>47</td>\n",
       "      <td>6</td>\n",
       "      <td>2160422</td>\n",
       "      <td>0</td>\n",
       "      <td>...</td>\n",
       "      <td>350.0</td>\n",
       "      <td>6099.98</td>\n",
       "      <td>24243.98</td>\n",
       "      <td>350.0</td>\n",
       "      <td>24593.98</td>\n",
       "      <td>2944.70</td>\n",
       "      <td>2457.97</td>\n",
       "      <td>2347.69</td>\n",
       "      <td>5.3.4</td>\n",
       "      <td>0</td>\n",
       "    </tr>\n",
       "    <tr>\n",
       "      <th>44715</th>\n",
       "      <td>20210331</td>\n",
       "      <td>1</td>\n",
       "      <td>1</td>\n",
       "      <td>0</td>\n",
       "      <td>4.21E+12</td>\n",
       "      <td>4</td>\n",
       "      <td>20</td>\n",
       "      <td>7</td>\n",
       "      <td>2100748</td>\n",
       "      <td>0</td>\n",
       "      <td>...</td>\n",
       "      <td>0.0</td>\n",
       "      <td>11822.00</td>\n",
       "      <td>209793.00</td>\n",
       "      <td>0.0</td>\n",
       "      <td>209793.00</td>\n",
       "      <td>203.00</td>\n",
       "      <td>1895.00</td>\n",
       "      <td>2065.00</td>\n",
       "      <td>10.6.1</td>\n",
       "      <td>0.931918605</td>\n",
       "    </tr>\n",
       "  </tbody>\n",
       "</table>\n",
       "<p>44716 rows × 42 columns</p>\n",
       "</div>"
      ],
      "text/plain": [
       "       SNAPSHOT  SNAPFILE  SNAPPEND  SNAPCLOS         CASEKEY  CIRCUIT  \\\n",
       "0      20210331         1         1         0        7.52E+12        7   \n",
       "1      20210331         1         1         0        9.72E+12        9   \n",
       "2      20210331         1         1         0  097221422884r1        9   \n",
       "3      20210331         1         1         0        5.42E+12        5   \n",
       "4      20210331         1         1         0        5.42E+12        5   \n",
       "...         ...       ...       ...       ...             ...      ...   \n",
       "44711  20210331         1         1         0        1.09E+13       10   \n",
       "44712  20210331         1         1         0        1.09E+13       10   \n",
       "44713  20210331         1         1         0        7.55E+12        7   \n",
       "44714  20210331         1         1         0        6.48E+12        6   \n",
       "44715  20210331         1         1         0        4.21E+12        4   \n",
       "\n",
       "      DISTRICT  OFFICE   DOCKET GEN  ...  UNSECPR   UNSECNPR     DSCHRGD  \\\n",
       "0           52       3  2180344   0  ...   1300.0   39046.21   140046.21   \n",
       "1           72       2  2120969   0  ...      0.0   39777.00   375434.00   \n",
       "2           72       2  1422884   r  ...      0.0  651622.98  1066822.98   \n",
       "3           42       3  2130172   0  ...   3100.0   54563.00   159448.00   \n",
       "4           42       3  2130253   0  ...      0.0  108777.00   122852.00   \n",
       "...        ...     ...      ...  ..  ...      ...        ...         ...   \n",
       "44711       85       4  2110318   0  ...      0.0   44851.55    62090.55   \n",
       "44712       88       2  2121278   0  ...      0.0   17581.59    17581.59   \n",
       "44713       55       3  2130280   0  ...      0.0  157711.66   423727.66   \n",
       "44714       47       6  2160422   0  ...    350.0    6099.98    24243.98   \n",
       "44715       20       7  2100748   0  ...      0.0   11822.00   209793.00   \n",
       "\n",
       "       NDSCHRGD      TOTDBT  CNTMNTHI  AVGMNTHI  AVGMNTHE FLCMECFV  \\\n",
       "0        1300.0   141346.21   4446.00   3674.00   3584.00    5.3.4   \n",
       "1           0.0   375434.00   3225.00   2443.00   4503.00    5.3.3   \n",
       "2           0.0  1066822.98   9950.12  12449.00  10957.78    5.3.3   \n",
       "3           0.0   159448.00    904.87   2944.00   1329.00   10.5.3   \n",
       "4       21343.0   144195.00   4892.11   3400.00   3332.00   10.5.3   \n",
       "...         ...         ...       ...       ...       ...      ...   \n",
       "44711       0.0    62090.55   3942.31   2784.23   2490.59    5.3.3   \n",
       "44712       0.0    17581.59   2256.71   1701.95   1601.95    5.3.4   \n",
       "44713    4336.0   428063.66  10483.90   7712.34   5775.73   10.5.2   \n",
       "44714     350.0    24593.98   2944.70   2457.97   2347.69    5.3.4   \n",
       "44715       0.0   209793.00    203.00   1895.00   2065.00   10.6.1   \n",
       "\n",
       "       PROP-LIABILITY Ratio  \n",
       "0               0.778230983  \n",
       "1               1.185294885  \n",
       "2               0.492490329  \n",
       "3               0.612412824  \n",
       "4                         0  \n",
       "...                     ...  \n",
       "44711                     0  \n",
       "44712                     0  \n",
       "44713           0.492683728  \n",
       "44714                     0  \n",
       "44715           0.931918605  \n",
       "\n",
       "[44716 rows x 42 columns]"
      ]
     },
     "execution_count": 15,
     "metadata": {},
     "output_type": "execute_result"
    }
   ],
   "source": [
    "df_dataset_bankruptcy['TOTLBLTS'].isnull().value_counts()\n",
    "df_dataset_bankruptcy"
   ]
  },
  {
   "cell_type": "code",
   "execution_count": 26,
   "id": "31d2dfed",
   "metadata": {},
   "outputs": [],
   "source": [
    "df_dataset_bankruptcy = df_dataset_bankruptcy[df_dataset_bankruptcy['REALPROP']<10000]\n",
    "df_dataset_bankruptcy = df_dataset_bankruptcy[df_dataset_bankruptcy['REALPROP']!=0]"
   ]
  },
  {
   "cell_type": "code",
   "execution_count": 27,
   "id": "2ec5f39f",
   "metadata": {},
   "outputs": [
    {
     "data": {
      "text/plain": [
       "720"
      ]
     },
     "execution_count": 27,
     "metadata": {},
     "output_type": "execute_result"
    }
   ],
   "source": [
    "len(df_dataset_bankruptcy)"
   ]
  },
  {
   "cell_type": "code",
   "execution_count": 28,
   "id": "f3d4a747",
   "metadata": {
    "scrolled": true
   },
   "outputs": [
    {
     "data": {
      "text/plain": [
       "37       0.157251248\n",
       "57       0.111637402\n",
       "111      0.104663754\n",
       "117      0.045034171\n",
       "202       0.02357173\n",
       "            ...     \n",
       "44532     0.07612088\n",
       "44563    0.019210862\n",
       "44610    0.168132942\n",
       "44655    0.251918777\n",
       "44688    0.056279688\n",
       "Name: PROP-LIABILITY Ratio, Length: 720, dtype: object"
      ]
     },
     "execution_count": 28,
     "metadata": {},
     "output_type": "execute_result"
    }
   ],
   "source": [
    "df_dataset_bankruptcy['PROP-LIABILITY Ratio']"
   ]
  },
  {
   "cell_type": "code",
   "execution_count": 29,
   "id": "9fadb238",
   "metadata": {},
   "outputs": [
    {
     "data": {
      "text/plain": [
       "37        50874.00\n",
       "57        62703.00\n",
       "111       47772.03\n",
       "117      114579.66\n",
       "202       21211.85\n",
       "           ...    \n",
       "44532     13137.00\n",
       "44563     66655.00\n",
       "44610     25575.00\n",
       "44655     39218.99\n",
       "44688     88842.00\n",
       "Name: TOTLBLTS, Length: 720, dtype: float64"
      ]
     },
     "execution_count": 29,
     "metadata": {},
     "output_type": "execute_result"
    }
   ],
   "source": [
    "df_dataset_bankruptcy['TOTLBLTS']"
   ]
  },
  {
   "cell_type": "code",
   "execution_count": 30,
   "id": "8a72005e",
   "metadata": {},
   "outputs": [
    {
     "data": {
      "text/plain": [
       "720"
      ]
     },
     "execution_count": 30,
     "metadata": {},
     "output_type": "execute_result"
    }
   ],
   "source": [
    "REALPROP=df_dataset_bankruptcy['REALPROP']  # the other variables are also changed. \n",
    "len(REALPROP)"
   ]
  },
  {
   "cell_type": "code",
   "execution_count": 31,
   "id": "d987f652",
   "metadata": {},
   "outputs": [
    {
     "data": {
      "text/plain": [
       "720"
      ]
     },
     "execution_count": 31,
     "metadata": {},
     "output_type": "execute_result"
    }
   ],
   "source": [
    "PROPLIABILITYRatio=df_dataset_bankruptcy['PROP-LIABILITY Ratio']\n",
    "len(PROPLIABILITYRatio)"
   ]
  },
  {
   "cell_type": "code",
   "execution_count": 21,
   "id": "d2b6c989",
   "metadata": {},
   "outputs": [
    {
     "data": {
      "text/plain": [
       "0        0.778230983\n",
       "1        1.185294885\n",
       "2        0.492490329\n",
       "3        0.612412824\n",
       "4                  0\n",
       "            ...     \n",
       "44711              0\n",
       "44712              0\n",
       "44713    0.492683728\n",
       "44714              0\n",
       "44715    0.931918605\n",
       "Name: PROP-LIABILITY Ratio, Length: 44716, dtype: object"
      ]
     },
     "execution_count": 21,
     "metadata": {},
     "output_type": "execute_result"
    }
   ],
   "source": [
    "PROPLIABILITYRatio"
   ]
  },
  {
   "cell_type": "code",
   "execution_count": null,
   "id": "4fe8f29a",
   "metadata": {},
   "outputs": [],
   "source": [
    "# making Python plots \n",
    "# plt.subplot(1, 2, 1): the figure has 1 row, 2 columns, and this plot is the first plot\n",
    "\n",
    "plt.figure(figsize=(16,9))\n",
    "\n",
    "plt.subplot(1,2,1)   \n",
    "plt.hist(PROPLIABILITYRatio,bins=10)  \n",
    "# histogram: make 50 bins between the lowest value and highest value of return: count the amount of observations in each bin. \n",
    "\n",
    "plt.subplot(1,2,2)\n",
    "plt.hist(PROPLIABILITYRatio, bins=10)\n",
    "plt.show()"
   ]
  },
  {
   "cell_type": "code",
   "execution_count": null,
   "id": "7159ab50",
   "metadata": {},
   "outputs": [],
   "source": [
    "PROPLIABILITYRatio"
   ]
  },
  {
   "cell_type": "code",
   "execution_count": null,
   "id": "62dbba15",
   "metadata": {},
   "outputs": [],
   "source": []
  }
 ],
 "metadata": {
  "kernelspec": {
   "display_name": "Python 3",
   "language": "python",
   "name": "python3"
  },
  "language_info": {
   "codemirror_mode": {
    "name": "ipython",
    "version": 3
   },
   "file_extension": ".py",
   "mimetype": "text/x-python",
   "name": "python",
   "nbconvert_exporter": "python",
   "pygments_lexer": "ipython3",
   "version": "3.7.0"
  }
 },
 "nbformat": 4,
 "nbformat_minor": 5
}
